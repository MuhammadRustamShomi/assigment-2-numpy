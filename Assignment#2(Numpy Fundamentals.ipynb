{
 "cells": [
  {
   "cell_type": "markdown",
   "metadata": {},
   "source": [
    "# Numpy_Assignment_2::"
   ]
  },
  {
   "cell_type": "markdown",
   "metadata": {},
   "source": [
    "## Question:1"
   ]
  },
  {
   "cell_type": "markdown",
   "metadata": {},
   "source": [
    "### Convert a 1D array to a 2D array with 2 rows?"
   ]
  },
  {
   "cell_type": "markdown",
   "metadata": {},
   "source": [
    "#### Desired output::"
   ]
  },
  {
   "cell_type": "markdown",
   "metadata": {},
   "source": [
    "array([[0, 1, 2, 3, 4],\n",
    "        [5, 6, 7, 8, 9]])"
   ]
  },
  {
   "cell_type": "code",
   "execution_count": 15,
   "metadata": {},
   "outputs": [
    {
     "name": "stdout",
     "output_type": "stream",
     "text": [
      "[[0, 1, 2, 3, 4], [5, 6, 7, 8, 9]]\n"
     ]
    }
   ],
   "source": [
    "import numpy as np\n",
    "a = np.array([0,1,2,3,4,5,6,7,8,9])\n",
    "b=a.reshape(2,5)\n",
    "print(b.tolist())\n"
   ]
  },
  {
   "cell_type": "markdown",
   "metadata": {},
   "source": [
    "## Question:2"
   ]
  },
  {
   "cell_type": "markdown",
   "metadata": {},
   "source": [
    "###  How to stack two arrays vertically?"
   ]
  },
  {
   "cell_type": "markdown",
   "metadata": {},
   "source": [
    "#### Desired Output::"
   ]
  },
  {
   "cell_type": "raw",
   "metadata": {},
   "source": [
    "array([[0, 1, 2, 3, 4],\n",
    "        [5, 6, 7, 8, 9],\n",
    "       [1, 1, 1, 1, 1],\n",
    "       [1, 1, 1, 1, 1]])"
   ]
  },
  {
   "cell_type": "code",
   "execution_count": 31,
   "metadata": {},
   "outputs": [
    {
     "name": "stdout",
     "output_type": "stream",
     "text": [
      "[[0 1 2 3 4]\n",
      " [5 6 7 8 9]]\n",
      "[[1. 1. 1. 1. 1.]\n",
      " [1. 1. 1. 1. 1.]]\n"
     ]
    }
   ],
   "source": [
    "import numpy as np\n",
    "x=np.arange(10).reshape(2,5)\n",
    "print(x)\n",
    "y=np.ones(10).reshape(2,5)\n",
    "print(y)\n"
   ]
  },
  {
   "cell_type": "markdown",
   "metadata": {},
   "source": [
    "## Question:3"
   ]
  },
  {
   "cell_type": "markdown",
   "metadata": {},
   "source": [
    "### How to stack two arrays horizontally?"
   ]
  },
  {
   "cell_type": "markdown",
   "metadata": {},
   "source": [
    "#### Desired Output::"
   ]
  },
  {
   "cell_type": "raw",
   "metadata": {},
   "source": [
    "array([[0, 1, 2, 3, 4, 1, 1, 1, 1, 1],\n",
    "       [5, 6, 7, 8, 9, 1, 1, 1, 1, 1]])"
   ]
  },
  {
   "cell_type": "code",
   "execution_count": 39,
   "metadata": {},
   "outputs": [
    {
     "name": "stdout",
     "output_type": "stream",
     "text": [
      "(array([[0, 1, 2, 3, 4],\n",
      "       [5, 6, 7, 8, 9]]), array([[1., 1., 1., 1., 1.],\n",
      "       [1., 1., 1., 1., 1.]]))\n"
     ]
    },
    {
     "data": {
      "text/plain": [
       "(array([[0, 1, 2, 3, 4],\n",
       "        [5, 6, 7, 8, 9]]),\n",
       " array([[1., 1., 1., 1., 1.],\n",
       "        [1., 1., 1., 1., 1.]]))"
      ]
     },
     "execution_count": 39,
     "metadata": {},
     "output_type": "execute_result"
    }
   ],
   "source": [
    "import numpy as np\n",
    "x=np.arange(10).reshape(2,5),np.ones(10).reshape(2,5)\n",
    "print(x)\n",
    "x[0:4]"
   ]
  },
  {
   "cell_type": "markdown",
   "metadata": {},
   "source": [
    "## Question:4"
   ]
  },
  {
   "cell_type": "markdown",
   "metadata": {},
   "source": [
    "### How to convert an array of arrays into a flat 1d array?"
   ]
  },
  {
   "cell_type": "markdown",
   "metadata": {},
   "source": [
    "#### Desired Output::"
   ]
  },
  {
   "cell_type": "raw",
   "metadata": {},
   "source": [
    "array([0, 1, 2, 3, 4, 5, 6, 7, 8, 9])"
   ]
  },
  {
   "cell_type": "code",
   "execution_count": null,
   "metadata": {},
   "outputs": [],
   "source": []
  },
  {
   "cell_type": "markdown",
   "metadata": {},
   "source": [
    "## Question:5"
   ]
  },
  {
   "cell_type": "markdown",
   "metadata": {},
   "source": [
    "### How to Convert higher dimension into one dimension?"
   ]
  },
  {
   "cell_type": "markdown",
   "metadata": {},
   "source": [
    "#### Desired Output::"
   ]
  },
  {
   "cell_type": "raw",
   "metadata": {},
   "source": [
    "array([ 0, 1, 2, 3, 4, 5, 6, 7, 8, 9, 10, 11, 12, 13, 14])"
   ]
  },
  {
   "cell_type": "code",
   "execution_count": null,
   "metadata": {},
   "outputs": [],
   "source": []
  },
  {
   "cell_type": "markdown",
   "metadata": {},
   "source": [
    "## Question:6"
   ]
  },
  {
   "cell_type": "markdown",
   "metadata": {},
   "source": [
    "### Convert one dimension to higher dimension?"
   ]
  },
  {
   "cell_type": "markdown",
   "metadata": {},
   "source": [
    "#### Desired Output::"
   ]
  },
  {
   "cell_type": "raw",
   "metadata": {},
   "source": [
    "array([[ 0, 1, 2],\n",
    "[ 3, 4, 5],\n",
    "[ 6, 7, 8],\n",
    "[ 9, 10, 11],\n",
    "[12, 13, 14]])"
   ]
  },
  {
   "cell_type": "code",
   "execution_count": null,
   "metadata": {},
   "outputs": [],
   "source": []
  },
  {
   "cell_type": "markdown",
   "metadata": {},
   "source": [
    "## Question:7"
   ]
  },
  {
   "cell_type": "markdown",
   "metadata": {},
   "source": [
    "### Create 5x5 an array and find the square of an array?"
   ]
  },
  {
   "cell_type": "code",
   "execution_count": 3,
   "metadata": {},
   "outputs": [
    {
     "name": "stdout",
     "output_type": "stream",
     "text": [
      "[[0.01203642 0.36197729 0.77636823 0.86783658 0.60304532]\n",
      " [0.61992725 0.99232723 0.28332268 0.22604113 0.25340372]\n",
      " [0.65576827 0.28995534 0.61979607 0.60842439 0.22118197]\n",
      " [0.87842799 0.77993896 0.58394541 0.48199263 0.37573216]\n",
      " [0.89676864 0.88552016 0.23757847 0.23820923 0.83228839]] [[1.44875402e-04 1.31027555e-01 6.02747624e-01 7.53140338e-01\n",
      "  3.63663656e-01]\n",
      " [3.84309794e-01 9.84713338e-01 8.02717425e-02 5.10945902e-02\n",
      "  6.42134459e-02]\n",
      " [4.30032019e-01 8.40740985e-02 3.84147170e-01 3.70180241e-01\n",
      "  4.89214647e-02]\n",
      " [7.71635731e-01 6.08304781e-01 3.40992237e-01 2.32316891e-01\n",
      "  1.41174656e-01]\n",
      " [8.04193986e-01 7.84145958e-01 5.64435288e-02 5.67436380e-02\n",
      "  6.92703966e-01]]\n"
     ]
    }
   ],
   "source": [
    "import numpy as np\n",
    "x = np.random.random((5,5))\n",
    "print(x,np.square(x))"
   ]
  },
  {
   "cell_type": "markdown",
   "metadata": {},
   "source": [
    "## Question:8"
   ]
  },
  {
   "cell_type": "markdown",
   "metadata": {},
   "source": [
    "### Create 5x6 an array and find the mean?"
   ]
  },
  {
   "cell_type": "code",
   "execution_count": 5,
   "metadata": {},
   "outputs": [
    {
     "name": "stdout",
     "output_type": "stream",
     "text": [
      "[[0.79562023 0.04735201 0.45975495 0.24905558 0.41842384 0.98683269]\n",
      " [0.6779186  0.65327625 0.05652671 0.75874444 0.8305872  0.36727513]\n",
      " [0.43360366 0.2693688  0.01835712 0.57109978 0.35048275 0.14543592]\n",
      " [0.16762379 0.84786573 0.87485272 0.30443582 0.32330798 0.08431626]\n",
      " [0.801615   0.3156994  0.18495361 0.45549525 0.41874938 0.86425911]]\n"
     ]
    },
    {
     "data": {
      "text/plain": [
       "0.4577629895055371"
      ]
     },
     "execution_count": 5,
     "metadata": {},
     "output_type": "execute_result"
    }
   ],
   "source": [
    "import numpy as np\n",
    "x = np.random.random((5,6))\n",
    "print(x)\n",
    "np.mean(x)"
   ]
  },
  {
   "cell_type": "markdown",
   "metadata": {},
   "source": [
    "## Question:9"
   ]
  },
  {
   "cell_type": "markdown",
   "metadata": {},
   "source": [
    "### Find the standard deviation of the previous array in Q8?"
   ]
  },
  {
   "cell_type": "code",
   "execution_count": 6,
   "metadata": {},
   "outputs": [
    {
     "name": "stdout",
     "output_type": "stream",
     "text": [
      "[[0.40698558 0.75970054 0.49797864 0.5839416  0.65567198 0.4152267 ]\n",
      " [0.37864309 0.99718381 0.15784289 0.51360431 0.05732558 0.80298809]\n",
      " [0.68004806 0.64176932 0.47337661 0.49854614 0.229349   0.64180511]\n",
      " [0.32175193 0.29517768 0.83382801 0.11419688 0.70595357 0.45775394]\n",
      " [0.21588171 0.25938847 0.34207674 0.04111037 0.31753049 0.98253978]]\n"
     ]
    },
    {
     "data": {
      "text/plain": [
       "0.25359156108416053"
      ]
     },
     "execution_count": 6,
     "metadata": {},
     "output_type": "execute_result"
    }
   ],
   "source": [
    "import numpy as np\n",
    "x = np.random.random((5,6))\n",
    "print(x)\n",
    "np.std(x)"
   ]
  },
  {
   "cell_type": "markdown",
   "metadata": {},
   "source": [
    "## Question:10"
   ]
  },
  {
   "cell_type": "markdown",
   "metadata": {},
   "source": [
    "### Find the median of the previous array in Q8?"
   ]
  },
  {
   "cell_type": "code",
   "execution_count": 8,
   "metadata": {},
   "outputs": [
    {
     "name": "stdout",
     "output_type": "stream",
     "text": [
      "[[0.0103518  0.01851923 0.73445327 0.2382243  0.62173845 0.6073922 ]\n",
      " [0.48849961 0.33162102 0.56149154 0.97113838 0.65625159 0.19965483]\n",
      " [0.65380685 0.44347335 0.62823342 0.23032155 0.58449954 0.77967839]\n",
      " [0.82355131 0.5870432  0.13263644 0.15048895 0.59910912 0.67807761]\n",
      " [0.231823   0.29136165 0.82962231 0.1060707  0.81835553 0.53018193]]\n"
     ]
    },
    {
     "data": {
      "text/plain": [
       "0.572995538132666"
      ]
     },
     "execution_count": 8,
     "metadata": {},
     "output_type": "execute_result"
    }
   ],
   "source": [
    "import numpy as np\n",
    "x = np.random.random((5,6))\n",
    "print(x)\n",
    "np.median(x)"
   ]
  },
  {
   "cell_type": "markdown",
   "metadata": {},
   "source": [
    "## Question:11"
   ]
  },
  {
   "cell_type": "markdown",
   "metadata": {},
   "source": [
    "### Find the transpose of the previous array in Q8?"
   ]
  },
  {
   "cell_type": "code",
   "execution_count": 9,
   "metadata": {},
   "outputs": [
    {
     "name": "stdout",
     "output_type": "stream",
     "text": [
      "[[0.90901428 0.25469322 0.36427013 0.61687312 0.22081148 0.23970231]\n",
      " [0.31179247 0.53173072 0.04398404 0.32564749 0.29641928 0.00744235]\n",
      " [0.51851527 0.47782475 0.68250348 0.02713447 0.21537929 0.74215743]\n",
      " [0.97048431 0.13303341 0.47879402 0.47752475 0.31162692 0.77043237]\n",
      " [0.31188518 0.35005215 0.08878185 0.20221608 0.49022939 0.81339558]]\n"
     ]
    },
    {
     "data": {
      "text/plain": [
       "array([[0.90901428, 0.31179247, 0.51851527, 0.97048431, 0.31188518],\n",
       "       [0.25469322, 0.53173072, 0.47782475, 0.13303341, 0.35005215],\n",
       "       [0.36427013, 0.04398404, 0.68250348, 0.47879402, 0.08878185],\n",
       "       [0.61687312, 0.32564749, 0.02713447, 0.47752475, 0.20221608],\n",
       "       [0.22081148, 0.29641928, 0.21537929, 0.31162692, 0.49022939],\n",
       "       [0.23970231, 0.00744235, 0.74215743, 0.77043237, 0.81339558]])"
      ]
     },
     "execution_count": 9,
     "metadata": {},
     "output_type": "execute_result"
    }
   ],
   "source": [
    "import numpy as np\n",
    "x = np.random.random((5,6))\n",
    "print(x)\n",
    "np.transpose(x)"
   ]
  },
  {
   "cell_type": "markdown",
   "metadata": {},
   "source": [
    "## Question:12"
   ]
  },
  {
   "cell_type": "markdown",
   "metadata": {},
   "source": [
    "### Create a 4x4 an array and find the sum of diagonal elements?"
   ]
  },
  {
   "cell_type": "code",
   "execution_count": 10,
   "metadata": {},
   "outputs": [
    {
     "name": "stdout",
     "output_type": "stream",
     "text": [
      "[[ 55  25  15  41]\n",
      " [ 30  44   2  54]\n",
      " [ 11  45  77  11]\n",
      " [ 11 212   4  20]]\n",
      "196\n"
     ]
    }
   ],
   "source": [
    "import numpy as np \n",
    "n_array = np.array([[55, 25, 15, 41], \n",
    "                    [30, 44, 2, 54], \n",
    "                    [11, 45, 77, 11], \n",
    "                    [11, 212, 4, 20]]) \n",
    "   \n",
    "print(n_array) \n",
    "trace = np.trace(n_array) \n",
    "print(trace) "
   ]
  },
  {
   "cell_type": "markdown",
   "metadata": {},
   "source": [
    "## Question:13"
   ]
  },
  {
   "cell_type": "markdown",
   "metadata": {},
   "source": [
    "### Find the determinant of the previous array in Q12?"
   ]
  },
  {
   "cell_type": "code",
   "execution_count": 12,
   "metadata": {},
   "outputs": [
    {
     "name": "stdout",
     "output_type": "stream",
     "text": [
      "[[ 55  25  15  41]\n",
      " [ 30  44   2  54]\n",
      " [ 11  45  77  11]\n",
      " [ 11 212   4  20]]\n",
      "-25166735.999999996\n"
     ]
    }
   ],
   "source": [
    "import numpy as np \n",
    "n_array = np.array([[55, 25, 15, 41], \n",
    "                    [30, 44, 2, 54], \n",
    "                    [11, 45, 77, 11], \n",
    "                    [11, 212, 4, 20]]) \n",
    "   \n",
    "print(n_array)\n",
    "print(np.linalg.det(n_array))"
   ]
  },
  {
   "cell_type": "markdown",
   "metadata": {},
   "source": [
    "## Question:14"
   ]
  },
  {
   "cell_type": "markdown",
   "metadata": {},
   "source": [
    "### Find the 5th and 95th percentile of an array?"
   ]
  },
  {
   "cell_type": "code",
   "execution_count": 14,
   "metadata": {},
   "outputs": [
    {
     "name": "stdout",
     "output_type": "stream",
     "text": [
      "[20, 2, 7, 1, 34]\n",
      "1.2000000000000002\n",
      "31.2\n"
     ]
    }
   ],
   "source": [
    "import numpy as np \n",
    "arr = [20, 2, 7, 1, 34]\n",
    "print(arr) \n",
    "print(np.percentile(arr, 5))\n",
    "print(np.percentile(arr, 95))"
   ]
  },
  {
   "cell_type": "markdown",
   "metadata": {},
   "source": [
    "## Question:15"
   ]
  },
  {
   "cell_type": "markdown",
   "metadata": {},
   "source": [
    "### How to find if a given array has any null values?"
   ]
  },
  {
   "cell_type": "code",
   "execution_count": 15,
   "metadata": {},
   "outputs": [
    {
     "data": {
      "text/plain": [
       "array([[False, False],\n",
       "       [ True, False]])"
      ]
     },
     "execution_count": 15,
     "metadata": {},
     "output_type": "execute_result"
    }
   ],
   "source": [
    " import numpy as np\n",
    "\n",
    "b = np.array([[4, np.inf],[np.nan, -np.inf]])\n",
    "\n",
    "np.isnan(b)"
   ]
  }
 ],
 "metadata": {
  "kernelspec": {
   "display_name": "Python 3",
   "language": "python",
   "name": "python3"
  },
  "language_info": {
   "codemirror_mode": {
    "name": "ipython",
    "version": 3
   },
   "file_extension": ".py",
   "mimetype": "text/x-python",
   "name": "python",
   "nbconvert_exporter": "python",
   "pygments_lexer": "ipython3",
   "version": "3.8.5"
  }
 },
 "nbformat": 4,
 "nbformat_minor": 2
}
